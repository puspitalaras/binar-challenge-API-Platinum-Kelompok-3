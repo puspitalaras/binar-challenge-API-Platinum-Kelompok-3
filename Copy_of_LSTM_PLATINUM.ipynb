{
  "cells": [
    {
      "cell_type": "markdown",
      "metadata": {
        "id": "view-in-github",
        "colab_type": "text"
      },
      "source": [
        "<a href=\"https://colab.research.google.com/github/puspitalaras/binar-challenge-API-Platinum-Kelompok-3/blob/main/Copy_of_LSTM_PLATINUM.ipynb\" target=\"_parent\"><img src=\"https://colab.research.google.com/assets/colab-badge.svg\" alt=\"Open In Colab\"/></a>"
      ]
    },
    {
      "cell_type": "code",
      "execution_count": null,
      "id": "i52hZTQ6ijss",
      "metadata": {
        "colab": {
          "base_uri": "https://localhost:8080/"
        },
        "id": "i52hZTQ6ijss",
        "outputId": "d05f301e-187f-4515-cd75-ade37883b21d"
      },
      "outputs": [
        {
          "output_type": "stream",
          "name": "stdout",
          "text": [
            "Mounted at /content/drive\n"
          ]
        }
      ],
      "source": [
        "from google.colab import drive\n",
        "drive.mount('/content/drive')"
      ]
    },
    {
      "cell_type": "code",
      "execution_count": null,
      "id": "c709b8de",
      "metadata": {
        "colab": {
          "base_uri": "https://localhost:8080/"
        },
        "id": "c709b8de",
        "outputId": "366c63a2-7c35-4131-a40e-1834c841fae2"
      },
      "outputs": [
        {
          "output_type": "execute_result",
          "data": {
            "text/plain": [
              "(11000, 2)"
            ]
          },
          "metadata": {},
          "execution_count": 2
        }
      ],
      "source": [
        "import pandas as pd\n",
        "df=pd.read_csv('/content/drive/MyDrive/BINAR DSC18-3/train_preprocess.tsv.txt', sep='\t', header=None, names=['teks', 'label'])\n",
        "df.shape"
      ]
    },
    {
      "cell_type": "code",
      "execution_count": null,
      "id": "9114fe8e",
      "metadata": {
        "colab": {
          "base_uri": "https://localhost:8080/"
        },
        "id": "9114fe8e",
        "outputId": "afc19444-bae9-49e1-ef59-2cf175e593f7"
      },
      "outputs": [
        {
          "output_type": "execute_result",
          "data": {
            "text/plain": [
              "label\n",
              "positive    6416\n",
              "negative    3436\n",
              "neutral     1148\n",
              "Name: count, dtype: int64"
            ]
          },
          "metadata": {},
          "execution_count": 3
        }
      ],
      "source": [
        "df.label.value_counts()"
      ]
    },
    {
      "cell_type": "code",
      "execution_count": null,
      "id": "6d8a9da5",
      "metadata": {
        "colab": {
          "base_uri": "https://localhost:8080/",
          "height": 206
        },
        "id": "6d8a9da5",
        "outputId": "dea8356e-e879-45eb-f396-ec76e3f7e1f5"
      },
      "outputs": [
        {
          "output_type": "execute_result",
          "data": {
            "text/plain": [
              "                                                teks     label\n",
              "0  warung ini dimiliki oleh pengusaha pabrik tahu...  positive\n",
              "1  mohon ulama lurus dan k212 mmbri hujjah partai...   neutral\n",
              "2  lokasi strategis di jalan sumatera bandung . t...  positive\n",
              "3  betapa bahagia nya diri ini saat unboxing pake...  positive\n",
              "4  duh . jadi mahasiswa jangan sombong dong . kas...  negative"
            ],
            "text/html": [
              "\n",
              "  <div id=\"df-ee4c16bd-fea5-4c18-9b1b-c97c70ec05ee\" class=\"colab-df-container\">\n",
              "    <div>\n",
              "<style scoped>\n",
              "    .dataframe tbody tr th:only-of-type {\n",
              "        vertical-align: middle;\n",
              "    }\n",
              "\n",
              "    .dataframe tbody tr th {\n",
              "        vertical-align: top;\n",
              "    }\n",
              "\n",
              "    .dataframe thead th {\n",
              "        text-align: right;\n",
              "    }\n",
              "</style>\n",
              "<table border=\"1\" class=\"dataframe\">\n",
              "  <thead>\n",
              "    <tr style=\"text-align: right;\">\n",
              "      <th></th>\n",
              "      <th>teks</th>\n",
              "      <th>label</th>\n",
              "    </tr>\n",
              "  </thead>\n",
              "  <tbody>\n",
              "    <tr>\n",
              "      <th>0</th>\n",
              "      <td>warung ini dimiliki oleh pengusaha pabrik tahu...</td>\n",
              "      <td>positive</td>\n",
              "    </tr>\n",
              "    <tr>\n",
              "      <th>1</th>\n",
              "      <td>mohon ulama lurus dan k212 mmbri hujjah partai...</td>\n",
              "      <td>neutral</td>\n",
              "    </tr>\n",
              "    <tr>\n",
              "      <th>2</th>\n",
              "      <td>lokasi strategis di jalan sumatera bandung . t...</td>\n",
              "      <td>positive</td>\n",
              "    </tr>\n",
              "    <tr>\n",
              "      <th>3</th>\n",
              "      <td>betapa bahagia nya diri ini saat unboxing pake...</td>\n",
              "      <td>positive</td>\n",
              "    </tr>\n",
              "    <tr>\n",
              "      <th>4</th>\n",
              "      <td>duh . jadi mahasiswa jangan sombong dong . kas...</td>\n",
              "      <td>negative</td>\n",
              "    </tr>\n",
              "  </tbody>\n",
              "</table>\n",
              "</div>\n",
              "    <div class=\"colab-df-buttons\">\n",
              "\n",
              "  <div class=\"colab-df-container\">\n",
              "    <button class=\"colab-df-convert\" onclick=\"convertToInteractive('df-ee4c16bd-fea5-4c18-9b1b-c97c70ec05ee')\"\n",
              "            title=\"Convert this dataframe to an interactive table.\"\n",
              "            style=\"display:none;\">\n",
              "\n",
              "  <svg xmlns=\"http://www.w3.org/2000/svg\" height=\"24px\" viewBox=\"0 -960 960 960\">\n",
              "    <path d=\"M120-120v-720h720v720H120Zm60-500h600v-160H180v160Zm220 220h160v-160H400v160Zm0 220h160v-160H400v160ZM180-400h160v-160H180v160Zm440 0h160v-160H620v160ZM180-180h160v-160H180v160Zm440 0h160v-160H620v160Z\"/>\n",
              "  </svg>\n",
              "    </button>\n",
              "\n",
              "  <style>\n",
              "    .colab-df-container {\n",
              "      display:flex;\n",
              "      gap: 12px;\n",
              "    }\n",
              "\n",
              "    .colab-df-convert {\n",
              "      background-color: #E8F0FE;\n",
              "      border: none;\n",
              "      border-radius: 50%;\n",
              "      cursor: pointer;\n",
              "      display: none;\n",
              "      fill: #1967D2;\n",
              "      height: 32px;\n",
              "      padding: 0 0 0 0;\n",
              "      width: 32px;\n",
              "    }\n",
              "\n",
              "    .colab-df-convert:hover {\n",
              "      background-color: #E2EBFA;\n",
              "      box-shadow: 0px 1px 2px rgba(60, 64, 67, 0.3), 0px 1px 3px 1px rgba(60, 64, 67, 0.15);\n",
              "      fill: #174EA6;\n",
              "    }\n",
              "\n",
              "    .colab-df-buttons div {\n",
              "      margin-bottom: 4px;\n",
              "    }\n",
              "\n",
              "    [theme=dark] .colab-df-convert {\n",
              "      background-color: #3B4455;\n",
              "      fill: #D2E3FC;\n",
              "    }\n",
              "\n",
              "    [theme=dark] .colab-df-convert:hover {\n",
              "      background-color: #434B5C;\n",
              "      box-shadow: 0px 1px 3px 1px rgba(0, 0, 0, 0.15);\n",
              "      filter: drop-shadow(0px 1px 2px rgba(0, 0, 0, 0.3));\n",
              "      fill: #FFFFFF;\n",
              "    }\n",
              "  </style>\n",
              "\n",
              "    <script>\n",
              "      const buttonEl =\n",
              "        document.querySelector('#df-ee4c16bd-fea5-4c18-9b1b-c97c70ec05ee button.colab-df-convert');\n",
              "      buttonEl.style.display =\n",
              "        google.colab.kernel.accessAllowed ? 'block' : 'none';\n",
              "\n",
              "      async function convertToInteractive(key) {\n",
              "        const element = document.querySelector('#df-ee4c16bd-fea5-4c18-9b1b-c97c70ec05ee');\n",
              "        const dataTable =\n",
              "          await google.colab.kernel.invokeFunction('convertToInteractive',\n",
              "                                                    [key], {});\n",
              "        if (!dataTable) return;\n",
              "\n",
              "        const docLinkHtml = 'Like what you see? Visit the ' +\n",
              "          '<a target=\"_blank\" href=https://colab.research.google.com/notebooks/data_table.ipynb>data table notebook</a>'\n",
              "          + ' to learn more about interactive tables.';\n",
              "        element.innerHTML = '';\n",
              "        dataTable['output_type'] = 'display_data';\n",
              "        await google.colab.output.renderOutput(dataTable, element);\n",
              "        const docLink = document.createElement('div');\n",
              "        docLink.innerHTML = docLinkHtml;\n",
              "        element.appendChild(docLink);\n",
              "      }\n",
              "    </script>\n",
              "  </div>\n",
              "\n",
              "\n",
              "<div id=\"df-e6d36e7d-29cc-40e4-befb-c75f62549c63\">\n",
              "  <button class=\"colab-df-quickchart\" onclick=\"quickchart('df-e6d36e7d-29cc-40e4-befb-c75f62549c63')\"\n",
              "            title=\"Suggest charts\"\n",
              "            style=\"display:none;\">\n",
              "\n",
              "<svg xmlns=\"http://www.w3.org/2000/svg\" height=\"24px\"viewBox=\"0 0 24 24\"\n",
              "     width=\"24px\">\n",
              "    <g>\n",
              "        <path d=\"M19 3H5c-1.1 0-2 .9-2 2v14c0 1.1.9 2 2 2h14c1.1 0 2-.9 2-2V5c0-1.1-.9-2-2-2zM9 17H7v-7h2v7zm4 0h-2V7h2v10zm4 0h-2v-4h2v4z\"/>\n",
              "    </g>\n",
              "</svg>\n",
              "  </button>\n",
              "\n",
              "<style>\n",
              "  .colab-df-quickchart {\n",
              "      --bg-color: #E8F0FE;\n",
              "      --fill-color: #1967D2;\n",
              "      --hover-bg-color: #E2EBFA;\n",
              "      --hover-fill-color: #174EA6;\n",
              "      --disabled-fill-color: #AAA;\n",
              "      --disabled-bg-color: #DDD;\n",
              "  }\n",
              "\n",
              "  [theme=dark] .colab-df-quickchart {\n",
              "      --bg-color: #3B4455;\n",
              "      --fill-color: #D2E3FC;\n",
              "      --hover-bg-color: #434B5C;\n",
              "      --hover-fill-color: #FFFFFF;\n",
              "      --disabled-bg-color: #3B4455;\n",
              "      --disabled-fill-color: #666;\n",
              "  }\n",
              "\n",
              "  .colab-df-quickchart {\n",
              "    background-color: var(--bg-color);\n",
              "    border: none;\n",
              "    border-radius: 50%;\n",
              "    cursor: pointer;\n",
              "    display: none;\n",
              "    fill: var(--fill-color);\n",
              "    height: 32px;\n",
              "    padding: 0;\n",
              "    width: 32px;\n",
              "  }\n",
              "\n",
              "  .colab-df-quickchart:hover {\n",
              "    background-color: var(--hover-bg-color);\n",
              "    box-shadow: 0 1px 2px rgba(60, 64, 67, 0.3), 0 1px 3px 1px rgba(60, 64, 67, 0.15);\n",
              "    fill: var(--button-hover-fill-color);\n",
              "  }\n",
              "\n",
              "  .colab-df-quickchart-complete:disabled,\n",
              "  .colab-df-quickchart-complete:disabled:hover {\n",
              "    background-color: var(--disabled-bg-color);\n",
              "    fill: var(--disabled-fill-color);\n",
              "    box-shadow: none;\n",
              "  }\n",
              "\n",
              "  .colab-df-spinner {\n",
              "    border: 2px solid var(--fill-color);\n",
              "    border-color: transparent;\n",
              "    border-bottom-color: var(--fill-color);\n",
              "    animation:\n",
              "      spin 1s steps(1) infinite;\n",
              "  }\n",
              "\n",
              "  @keyframes spin {\n",
              "    0% {\n",
              "      border-color: transparent;\n",
              "      border-bottom-color: var(--fill-color);\n",
              "      border-left-color: var(--fill-color);\n",
              "    }\n",
              "    20% {\n",
              "      border-color: transparent;\n",
              "      border-left-color: var(--fill-color);\n",
              "      border-top-color: var(--fill-color);\n",
              "    }\n",
              "    30% {\n",
              "      border-color: transparent;\n",
              "      border-left-color: var(--fill-color);\n",
              "      border-top-color: var(--fill-color);\n",
              "      border-right-color: var(--fill-color);\n",
              "    }\n",
              "    40% {\n",
              "      border-color: transparent;\n",
              "      border-right-color: var(--fill-color);\n",
              "      border-top-color: var(--fill-color);\n",
              "    }\n",
              "    60% {\n",
              "      border-color: transparent;\n",
              "      border-right-color: var(--fill-color);\n",
              "    }\n",
              "    80% {\n",
              "      border-color: transparent;\n",
              "      border-right-color: var(--fill-color);\n",
              "      border-bottom-color: var(--fill-color);\n",
              "    }\n",
              "    90% {\n",
              "      border-color: transparent;\n",
              "      border-bottom-color: var(--fill-color);\n",
              "    }\n",
              "  }\n",
              "</style>\n",
              "\n",
              "  <script>\n",
              "    async function quickchart(key) {\n",
              "      const quickchartButtonEl =\n",
              "        document.querySelector('#' + key + ' button');\n",
              "      quickchartButtonEl.disabled = true;  // To prevent multiple clicks.\n",
              "      quickchartButtonEl.classList.add('colab-df-spinner');\n",
              "      try {\n",
              "        const charts = await google.colab.kernel.invokeFunction(\n",
              "            'suggestCharts', [key], {});\n",
              "      } catch (error) {\n",
              "        console.error('Error during call to suggestCharts:', error);\n",
              "      }\n",
              "      quickchartButtonEl.classList.remove('colab-df-spinner');\n",
              "      quickchartButtonEl.classList.add('colab-df-quickchart-complete');\n",
              "    }\n",
              "    (() => {\n",
              "      let quickchartButtonEl =\n",
              "        document.querySelector('#df-e6d36e7d-29cc-40e4-befb-c75f62549c63 button');\n",
              "      quickchartButtonEl.style.display =\n",
              "        google.colab.kernel.accessAllowed ? 'block' : 'none';\n",
              "    })();\n",
              "  </script>\n",
              "</div>\n",
              "    </div>\n",
              "  </div>\n"
            ],
            "application/vnd.google.colaboratory.intrinsic+json": {
              "type": "dataframe",
              "variable_name": "df",
              "summary": "{\n  \"name\": \"df\",\n  \"rows\": 11000,\n  \"fields\": [\n    {\n      \"column\": \"teks\",\n      \"properties\": {\n        \"dtype\": \"string\",\n        \"num_unique_values\": 10933,\n        \"samples\": [\n          \"ikan laut di aceh masih mahal\",\n          \"pizza sama coffie nya enak , harga nya juga murah banget hehehe sewaktu ke sini dulu waktu hujan jadi bisa sambil santai lama sekali :\",\n          \"kalau mau merasakan roti zaman dahulu , ini salah satu tempat nya . buka nya hanya sampai sore , jadi kalau pulang kantor kadang tidak keburu ke sini\"\n        ],\n        \"semantic_type\": \"\",\n        \"description\": \"\"\n      }\n    },\n    {\n      \"column\": \"label\",\n      \"properties\": {\n        \"dtype\": \"category\",\n        \"num_unique_values\": 3,\n        \"samples\": [\n          \"positive\",\n          \"neutral\",\n          \"negative\"\n        ],\n        \"semantic_type\": \"\",\n        \"description\": \"\"\n      }\n    }\n  ]\n}"
            }
          },
          "metadata": {},
          "execution_count": 4
        }
      ],
      "source": [
        "df.head()"
      ]
    },
    {
      "cell_type": "code",
      "source": [
        "plot = df.label.value_counts().plot.pie(subplots=True, autopct='%1.0f%%')\n",
        "plot"
      ],
      "metadata": {
        "colab": {
          "base_uri": "https://localhost:8080/",
          "height": 423
        },
        "id": "-G69pI6cqZan",
        "outputId": "e3bec697-1a7a-4c27-ac81-f2e55ad255bf"
      },
      "id": "-G69pI6cqZan",
      "execution_count": null,
      "outputs": [
        {
          "output_type": "execute_result",
          "data": {
            "text/plain": [
              "array([<Axes: ylabel='count'>], dtype=object)"
            ]
          },
          "metadata": {},
          "execution_count": 124
        },
        {
          "output_type": "display_data",
          "data": {
            "text/plain": [
              "<Figure size 640x480 with 1 Axes>"
            ],
            "image/png": "[encoded data removed]"
          },
          "metadata": {}
        }
      ]
    },
    {
      "cell_type": "code",
      "source": [
        "df.groupby('label').describe().T"
      ],
      "metadata": {
        "colab": {
          "base_uri": "https://localhost:8080/",
          "height": 175
        },
        "id": "wIrlUqoLviRE",
        "outputId": "b4b3f857-c38f-4af1-d98a-5ffacbb58f29"
      },
      "id": "wIrlUqoLviRE",
      "execution_count": null,
      "outputs": [
        {
          "output_type": "execute_result",
          "data": {
            "text/plain": [
              "label       negative                                            neutral  \\\n",
              "teks count      3436                                               1148   \n",
              "     unique     3412                                               1138   \n",
              "     top       kesal  diminta luhut stop penenggelaman kapal , begin...   \n",
              "     freq          4                                                  2   \n",
              "\n",
              "label                                                 positive  \n",
              "teks count                                                6416  \n",
              "     unique                                               6383  \n",
              "     top     jangan pernah kecewa dengan apa yang diberikan...  \n",
              "     freq                                                    4  "
            ],
            "text/html": [
              "\n",
              "  <div id=\"df-a456d758-e026-4920-98d8-e3697dc3f9e6\" class=\"colab-df-container\">\n",
              "    <div>\n",
              "<style scoped>\n",
              "    .dataframe tbody tr th:only-of-type {\n",
              "        vertical-align: middle;\n",
              "    }\n",
              "\n",
              "    .dataframe tbody tr th {\n",
              "        vertical-align: top;\n",
              "    }\n",
              "\n",
              "    .dataframe thead th {\n",
              "        text-align: right;\n",
              "    }\n",
              "</style>\n",
              "<table border=\"1\" class=\"dataframe\">\n",
              "  <thead>\n",
              "    <tr style=\"text-align: right;\">\n",
              "      <th></th>\n",
              "      <th>label</th>\n",
              "      <th>negative</th>\n",
              "      <th>neutral</th>\n",
              "      <th>positive</th>\n",
              "    </tr>\n",
              "  </thead>\n",
              "  <tbody>\n",
              "    <tr>\n",
              "      <th rowspan=\"4\" valign=\"top\">teks</th>\n",
              "      <th>count</th>\n",
              "      <td>3436</td>\n",
              "      <td>1148</td>\n",
              "      <td>6416</td>\n",
              "    </tr>\n",
              "    <tr>\n",
              "      <th>unique</th>\n",
              "      <td>3412</td>\n",
              "      <td>1138</td>\n",
              "      <td>6383</td>\n",
              "    </tr>\n",
              "    <tr>\n",
              "      <th>top</th>\n",
              "      <td>kesal</td>\n",
              "      <td>diminta luhut stop penenggelaman kapal , begin...</td>\n",
              "      <td>jangan pernah kecewa dengan apa yang diberikan...</td>\n",
              "    </tr>\n",
              "    <tr>\n",
              "      <th>freq</th>\n",
              "      <td>4</td>\n",
              "      <td>2</td>\n",
              "      <td>4</td>\n",
              "    </tr>\n",
              "  </tbody>\n",
              "</table>\n",
              "</div>\n",
              "    <div class=\"colab-df-buttons\">\n",
              "\n",
              "  <div class=\"colab-df-container\">\n",
              "    <button class=\"colab-df-convert\" onclick=\"convertToInteractive('df-a456d758-e026-4920-98d8-e3697dc3f9e6')\"\n",
              "            title=\"Convert this dataframe to an interactive table.\"\n",
              "            style=\"display:none;\">\n",
              "\n",
              "  <svg xmlns=\"http://www.w3.org/2000/svg\" height=\"24px\" viewBox=\"0 -960 960 960\">\n",
              "    <path d=\"M120-120v-720h720v720H120Zm60-500h600v-160H180v160Zm220 220h160v-160H400v160Zm0 220h160v-160H400v160ZM180-400h160v-160H180v160Zm440 0h160v-160H620v160ZM180-180h160v-160H180v160Zm440 0h160v-160H620v160Z\"/>\n",
              "  </svg>\n",
              "    </button>\n",
              "\n",
              "  <style>\n",
              "    .colab-df-container {\n",
              "      display:flex;\n",
              "      gap: 12px;\n",
              "    }\n",
              "\n",
              "    .colab-df-convert {\n",
              "      background-color: #E8F0FE;\n",
              "      border: none;\n",
              "      border-radius: 50%;\n",
              "      cursor: pointer;\n",
              "      display: none;\n",
              "      fill: #1967D2;\n",
              "      height: 32px;\n",
              "      padding: 0 0 0 0;\n",
              "      width: 32px;\n",
              "    }\n",
              "\n",
              "    .colab-df-convert:hover {\n",
              "      background-color: #E2EBFA;\n",
              "      box-shadow: 0px 1px 2px rgba(60, 64, 67, 0.3), 0px 1px 3px 1px rgba(60, 64, 67, 0.15);\n",
              "      fill: #174EA6;\n",
              "    }\n",
              "\n",
              "    .colab-df-buttons div {\n",
              "      margin-bottom: 4px;\n",
              "    }\n",
              "\n",
              "    [theme=dark] .colab-df-convert {\n",
              "      background-color: #3B4455;\n",
              "      fill: #D2E3FC;\n",
              "    }\n",
              "\n",
              "    [theme=dark] .colab-df-convert:hover {\n",
              "      background-color: #434B5C;\n",
              "      box-shadow: 0px 1px 3px 1px rgba(0, 0, 0, 0.15);\n",
              "      filter: drop-shadow(0px 1px 2px rgba(0, 0, 0, 0.3));\n",
              "      fill: #FFFFFF;\n",
              "    }\n",
              "  </style>\n",
              "\n",
              "    <script>\n",
              "      const buttonEl =\n",
              "        document.querySelector('#df-a456d758-e026-4920-98d8-e3697dc3f9e6 button.colab-df-convert');\n",
              "      buttonEl.style.display =\n",
              "        google.colab.kernel.accessAllowed ? 'block' : 'none';\n",
              "\n",
              "      async function convertToInteractive(key) {\n",
              "        const element = document.querySelector('#df-a456d758-e026-4920-98d8-e3697dc3f9e6');\n",
              "        const dataTable =\n",
              "          await google.colab.kernel.invokeFunction('convertToInteractive',\n",
              "                                                    [key], {});\n",
              "        if (!dataTable) return;\n",
              "\n",
              "        const docLinkHtml = 'Like what you see? Visit the ' +\n",
              "          '<a target=\"_blank\" href=https://colab.research.google.com/notebooks/data_table.ipynb>data table notebook</a>'\n",
              "          + ' to learn more about interactive tables.';\n",
              "        element.innerHTML = '';\n",
              "        dataTable['output_type'] = 'display_data';\n",
              "        await google.colab.output.renderOutput(dataTable, element);\n",
              "        const docLink = document.createElement('div');\n",
              "        docLink.innerHTML = docLinkHtml;\n",
              "        element.appendChild(docLink);\n",
              "      }\n",
              "    </script>\n",
              "  </div>\n",
              "\n",
              "\n",
              "<div id=\"df-36a5250a-ef3d-4d2b-b57e-66d22cd998e8\">\n",
              "  <button class=\"colab-df-quickchart\" onclick=\"quickchart('df-36a5250a-ef3d-4d2b-b57e-66d22cd998e8')\"\n",
              "            title=\"Suggest charts\"\n",
              "            style=\"display:none;\">\n",
              "\n",
              "<svg xmlns=\"http://www.w3.org/2000/svg\" height=\"24px\"viewBox=\"0 0 24 24\"\n",
              "     width=\"24px\">\n",
              "    <g>\n",
              "        <path d=\"M19 3H5c-1.1 0-2 .9-2 2v14c0 1.1.9 2 2 2h14c1.1 0 2-.9 2-2V5c0-1.1-.9-2-2-2zM9 17H7v-7h2v7zm4 0h-2V7h2v10zm4 0h-2v-4h2v4z\"/>\n",
              "    </g>\n",
              "</svg>\n",
              "  </button>\n",
              "\n",
              "<style>\n",
              "  .colab-df-quickchart {\n",
              "      --bg-color: #E8F0FE;\n",
              "      --fill-color: #1967D2;\n",
              "      --hover-bg-color: #E2EBFA;\n",
              "      --hover-fill-color: #174EA6;\n",
              "      --disabled-fill-color: #AAA;\n",
              "      --disabled-bg-color: #DDD;\n",
              "  }\n",
              "\n",
              "  [theme=dark] .colab-df-quickchart {\n",
              "      --bg-color: #3B4455;\n",
              "      --fill-color: #D2E3FC;\n",
              "      --hover-bg-color: #434B5C;\n",
              "      --hover-fill-color: #FFFFFF;\n",
              "      --disabled-bg-color: #3B4455;\n",
              "      --disabled-fill-color: #666;\n",
              "  }\n",
              "\n",
              "  .colab-df-quickchart {\n",
              "    background-color: var(--bg-color);\n",
              "    border: none;\n",
              "    border-radius: 50%;\n",
              "    cursor: pointer;\n",
              "    display: none;\n",
              "    fill: var(--fill-color);\n",
              "    height: 32px;\n",
              "    padding: 0;\n",
              "    width: 32px;\n",
              "  }\n",
              "\n",
              "  .colab-df-quickchart:hover {\n",
              "    background-color: var(--hover-bg-color);\n",
              "    box-shadow: 0 1px 2px rgba(60, 64, 67, 0.3), 0 1px 3px 1px rgba(60, 64, 67, 0.15);\n",
              "    fill: var(--button-hover-fill-color);\n",
              "  }\n",
              "\n",
              "  .colab-df-quickchart-complete:disabled,\n",
              "  .colab-df-quickchart-complete:disabled:hover {\n",
              "    background-color: var(--disabled-bg-color);\n",
              "    fill: var(--disabled-fill-color);\n",
              "    box-shadow: none;\n",
              "  }\n",
              "\n",
              "  .colab-df-spinner {\n",
              "    border: 2px solid var(--fill-color);\n",
              "    border-color: transparent;\n",
              "    border-bottom-color: var(--fill-color);\n",
              "    animation:\n",
              "      spin 1s steps(1) infinite;\n",
              "  }\n",
              "\n",
              "  @keyframes spin {\n",
              "    0% {\n",
              "      border-color: transparent;\n",
              "      border-bottom-color: var(--fill-color);\n",
              "      border-left-color: var(--fill-color);\n",
              "    }\n",
              "    20% {\n",
              "      border-color: transparent;\n",
              "      border-left-color: var(--fill-color);\n",
              "      border-top-color: var(--fill-color);\n",
              "    }\n",
              "    30% {\n",
              "      border-color: transparent;\n",
              "      border-left-color: var(--fill-color);\n",
              "      border-top-color: var(--fill-color);\n",
              "      border-right-color: var(--fill-color);\n",
              "    }\n",
              "    40% {\n",
              "      border-color: transparent;\n",
              "      border-right-color: var(--fill-color);\n",
              "      border-top-color: var(--fill-color);\n",
              "    }\n",
              "    60% {\n",
              "      border-color: transparent;\n",
              "      border-right-color: var(--fill-color);\n",
              "    }\n",
              "    80% {\n",
              "      border-color: transparent;\n",
              "      border-right-color: var(--fill-color);\n",
              "      border-bottom-color: var(--fill-color);\n",
              "    }\n",
              "    90% {\n",
              "      border-color: transparent;\n",
              "      border-bottom-color: var(--fill-color);\n",
              "    }\n",
              "  }\n",
              "</style>\n",
              "\n",
              "  <script>\n",
              "    async function quickchart(key) {\n",
              "      const quickchartButtonEl =\n",
              "        document.querySelector('#' + key + ' button');\n",
              "      quickchartButtonEl.disabled = true;  // To prevent multiple clicks.\n",
              "      quickchartButtonEl.classList.add('colab-df-spinner');\n",
              "      try {\n",
              "        const charts = await google.colab.kernel.invokeFunction(\n",
              "            'suggestCharts', [key], {});\n",
              "      } catch (error) {\n",
              "        console.error('Error during call to suggestCharts:', error);\n",
              "      }\n",
              "      quickchartButtonEl.classList.remove('colab-df-spinner');\n",
              "      quickchartButtonEl.classList.add('colab-df-quickchart-complete');\n",
              "    }\n",
              "    (() => {\n",
              "      let quickchartButtonEl =\n",
              "        document.querySelector('#df-36a5250a-ef3d-4d2b-b57e-66d22cd998e8 button');\n",
              "      quickchartButtonEl.style.display =\n",
              "        google.colab.kernel.accessAllowed ? 'block' : 'none';\n",
              "    })();\n",
              "  </script>\n",
              "</div>\n",
              "    </div>\n",
              "  </div>\n"
            ],
            "application/vnd.google.colaboratory.intrinsic+json": {
              "type": "dataframe",
              "summary": "{\n  \"name\": \"df\",\n  \"rows\": 4,\n  \"fields\": [\n    {\n      \"column\": \"negative\",\n      \"properties\": {\n        \"dtype\": \"string\",\n        \"num_unique_values\": 4,\n        \"samples\": [\n          3412,\n          \"4\",\n          \"3436\"\n        ],\n        \"semantic_type\": \"\",\n        \"description\": \"\"\n      }\n    },\n    {\n      \"column\": \"neutral\",\n      \"properties\": {\n        \"dtype\": \"string\",\n        \"num_unique_values\": 4,\n        \"samples\": [\n          1138,\n          \"2\",\n          \"1148\"\n        ],\n        \"semantic_type\": \"\",\n        \"description\": \"\"\n      }\n    },\n    {\n      \"column\": \"positive\",\n      \"properties\": {\n        \"dtype\": \"string\",\n        \"num_unique_values\": 4,\n        \"samples\": [\n          6383,\n          \"4\",\n          \"6416\"\n        ],\n        \"semantic_type\": \"\",\n        \"description\": \"\"\n      }\n    }\n  ]\n}"
            }
          },
          "metadata": {},
          "execution_count": 125
        }
      ]
    },
    {
      "cell_type": "markdown",
      "id": "23ddc2f6",
      "metadata": {
        "id": "23ddc2f6"
      },
      "source": [
        "## CLEANSING"
      ]
    },
    {
      "cell_type": "code",
      "execution_count": null,
      "id": "8451573a",
      "metadata": {
        "id": "8451573a"
      },
      "outputs": [],
      "source": [
        "import re\n",
        "\n",
        "def cleansing (text):\n",
        "    string = text.lower()\n",
        "    string = re.sub(r'[^a-zA-Z0-9]',' ', string)\n",
        "    return string"
      ]
    },
    {
      "cell_type": "code",
      "execution_count": null,
      "id": "ba46b259",
      "metadata": {
        "colab": {
          "base_uri": "https://localhost:8080/",
          "height": 206
        },
        "id": "ba46b259",
        "outputId": "924af11d-d937-46ba-b538-5e24b3c6e7dc"
      },
      "outputs": [
        {
          "output_type": "execute_result",
          "data": {
            "text/plain": [
              "                                                teks     label  \\\n",
              "0  warung ini dimiliki oleh pengusaha pabrik tahu...  positive   \n",
              "1  mohon ulama lurus dan k212 mmbri hujjah partai...   neutral   \n",
              "2  lokasi strategis di jalan sumatera bandung . t...  positive   \n",
              "3  betapa bahagia nya diri ini saat unboxing pake...  positive   \n",
              "4  duh . jadi mahasiswa jangan sombong dong . kas...  negative   \n",
              "\n",
              "                                           teksclean  \n",
              "0  warung ini dimiliki oleh pengusaha pabrik tahu...  \n",
              "1  mohon ulama lurus dan k212 mmbri hujjah partai...  \n",
              "2  lokasi strategis di jalan sumatera bandung   t...  \n",
              "3  betapa bahagia nya diri ini saat unboxing pake...  \n",
              "4  duh   jadi mahasiswa jangan sombong dong   kas...  "
            ],
            "text/html": [
              "\n",
              "  <div id=\"df-5f9c5f87-53dc-4bf3-8c42-e7ad53fb0a13\" class=\"colab-df-container\">\n",
              "    <div>\n",
              "<style scoped>\n",
              "    .dataframe tbody tr th:only-of-type {\n",
              "        vertical-align: middle;\n",
              "    }\n",
              "\n",
              "    .dataframe tbody tr th {\n",
              "        vertical-align: top;\n",
              "    }\n",
              "\n",
              "    .dataframe thead th {\n",
              "        text-align: right;\n",
              "    }\n",
              "</style>\n",
              "<table border=\"1\" class=\"dataframe\">\n",
              "  <thead>\n",
              "    <tr style=\"text-align: right;\">\n",
              "      <th></th>\n",
              "      <th>teks</th>\n",
              "      <th>label</th>\n",
              "      <th>teksclean</th>\n",
              "    </tr>\n",
              "  </thead>\n",
              "  <tbody>\n",
              "    <tr>\n",
              "      <th>0</th>\n",
              "      <td>warung ini dimiliki oleh pengusaha pabrik tahu...</td>\n",
              "      <td>positive</td>\n",
              "      <td>warung ini dimiliki oleh pengusaha pabrik tahu...</td>\n",
              "    </tr>\n",
              "    <tr>\n",
              "      <th>1</th>\n",
              "      <td>mohon ulama lurus dan k212 mmbri hujjah partai...</td>\n",
              "      <td>neutral</td>\n",
              "      <td>mohon ulama lurus dan k212 mmbri hujjah partai...</td>\n",
              "    </tr>\n",
              "    <tr>\n",
              "      <th>2</th>\n",
              "      <td>lokasi strategis di jalan sumatera bandung . t...</td>\n",
              "      <td>positive</td>\n",
              "      <td>lokasi strategis di jalan sumatera bandung   t...</td>\n",
              "    </tr>\n",
              "    <tr>\n",
              "      <th>3</th>\n",
              "      <td>betapa bahagia nya diri ini saat unboxing pake...</td>\n",
              "      <td>positive</td>\n",
              "      <td>betapa bahagia nya diri ini saat unboxing pake...</td>\n",
              "    </tr>\n",
              "    <tr>\n",
              "      <th>4</th>\n",
              "      <td>duh . jadi mahasiswa jangan sombong dong . kas...</td>\n",
              "      <td>negative</td>\n",
              "      <td>duh   jadi mahasiswa jangan sombong dong   kas...</td>\n",
              "    </tr>\n",
              "  </tbody>\n",
              "</table>\n",
              "</div>\n",
              "    <div class=\"colab-df-buttons\">\n",
              "\n",
              "  <div class=\"colab-df-container\">\n",
              "    <button class=\"colab-df-convert\" onclick=\"convertToInteractive('df-5f9c5f87-53dc-4bf3-8c42-e7ad53fb0a13')\"\n",
              "            title=\"Convert this dataframe to an interactive table.\"\n",
              "            style=\"display:none;\">\n",
              "\n",
              "  <svg xmlns=\"http://www.w3.org/2000/svg\" height=\"24px\" viewBox=\"0 -960 960 960\">\n",
              "    <path d=\"M120-120v-720h720v720H120Zm60-500h600v-160H180v160Zm220 220h160v-160H400v160Zm0 220h160v-160H400v160ZM180-400h160v-160H180v160Zm440 0h160v-160H620v160ZM180-180h160v-160H180v160Zm440 0h160v-160H620v160Z\"/>\n",
              "  </svg>\n",
              "    </button>\n",
              "\n",
              "  <style>\n",
              "    .colab-df-container {\n",
              "      display:flex;\n",
              "      gap: 12px;\n",
              "    }\n",
              "\n",
              "    .colab-df-convert {\n",
              "      background-color: #E8F0FE;\n",
              "      border: none;\n",
              "      border-radius: 50%;\n",
              "      cursor: pointer;\n",
              "      display: none;\n",
              "      fill: #1967D2;\n",
              "      height: 32px;\n",
              "      padding: 0 0 0 0;\n",
              "      width: 32px;\n",
              "    }\n",
              "\n",
              "    .colab-df-convert:hover {\n",
              "      background-color: #E2EBFA;\n",
              "      box-shadow: 0px 1px 2px rgba(60, 64, 67, 0.3), 0px 1px 3px 1px rgba(60, 64, 67, 0.15);\n",
              "      fill: #174EA6;\n",
              "    }\n",
              "\n",
              "    .colab-df-buttons div {\n",
              "      margin-bottom: 4px;\n",
              "    }\n",
              "\n",
              "    [theme=dark] .colab-df-convert {\n",
              "      background-color: #3B4455;\n",
              "      fill: #D2E3FC;\n",
              "    }\n",
              "\n",
              "    [theme=dark] .colab-df-convert:hover {\n",
              "      background-color: #434B5C;\n",
              "      box-shadow: 0px 1px 3px 1px rgba(0, 0, 0, 0.15);\n",
              "      filter: drop-shadow(0px 1px 2px rgba(0, 0, 0, 0.3));\n",
              "      fill: #FFFFFF;\n",
              "    }\n",
              "  </style>\n",
              "\n",
              "    <script>\n",
              "      const buttonEl =\n",
              "        document.querySelector('#df-5f9c5f87-53dc-4bf3-8c42-e7ad53fb0a13 button.colab-df-convert');\n",
              "      buttonEl.style.display =\n",
              "        google.colab.kernel.accessAllowed ? 'block' : 'none';\n",
              "\n",
              "      async function convertToInteractive(key) {\n",
              "        const element = document.querySelector('#df-5f9c5f87-53dc-4bf3-8c42-e7ad53fb0a13');\n",
              "        const dataTable =\n",
              "          await google.colab.kernel.invokeFunction('convertToInteractive',\n",
              "                                                    [key], {});\n",
              "        if (!dataTable) return;\n",
              "\n",
              "        const docLinkHtml = 'Like what you see? Visit the ' +\n",
              "          '<a target=\"_blank\" href=https://colab.research.google.com/notebooks/data_table.ipynb>data table notebook</a>'\n",
              "          + ' to learn more about interactive tables.';\n",
              "        element.innerHTML = '';\n",
              "        dataTable['output_type'] = 'display_data';\n",
              "        await google.colab.output.renderOutput(dataTable, element);\n",
              "        const docLink = document.createElement('div');\n",
              "        docLink.innerHTML = docLinkHtml;\n",
              "        element.appendChild(docLink);\n",
              "      }\n",
              "    </script>\n",
              "  </div>\n",
              "\n",
              "\n",
              "<div id=\"df-8870142a-eda5-4925-a918-1fe2d65f07d6\">\n",
              "  <button class=\"colab-df-quickchart\" onclick=\"quickchart('df-8870142a-eda5-4925-a918-1fe2d65f07d6')\"\n",
              "            title=\"Suggest charts\"\n",
              "            style=\"display:none;\">\n",
              "\n",
              "<svg xmlns=\"http://www.w3.org/2000/svg\" height=\"24px\"viewBox=\"0 0 24 24\"\n",
              "     width=\"24px\">\n",
              "    <g>\n",
              "        <path d=\"M19 3H5c-1.1 0-2 .9-2 2v14c0 1.1.9 2 2 2h14c1.1 0 2-.9 2-2V5c0-1.1-.9-2-2-2zM9 17H7v-7h2v7zm4 0h-2V7h2v10zm4 0h-2v-4h2v4z\"/>\n",
              "    </g>\n",
              "</svg>\n",
              "  </button>\n",
              "\n",
              "<style>\n",
              "  .colab-df-quickchart {\n",
              "      --bg-color: #E8F0FE;\n",
              "      --fill-color: #1967D2;\n",
              "      --hover-bg-color: #E2EBFA;\n",
              "      --hover-fill-color: #174EA6;\n",
              "      --disabled-fill-color: #AAA;\n",
              "      --disabled-bg-color: #DDD;\n",
              "  }\n",
              "\n",
              "  [theme=dark] .colab-df-quickchart {\n",
              "      --bg-color: #3B4455;\n",
              "      --fill-color: #D2E3FC;\n",
              "      --hover-bg-color: #434B5C;\n",
              "      --hover-fill-color: #FFFFFF;\n",
              "      --disabled-bg-color: #3B4455;\n",
              "      --disabled-fill-color: #666;\n",
              "  }\n",
              "\n",
              "  .colab-df-quickchart {\n",
              "    background-color: var(--bg-color);\n",
              "    border: none;\n",
              "    border-radius: 50%;\n",
              "    cursor: pointer;\n",
              "    display: none;\n",
              "    fill: var(--fill-color);\n",
              "    height: 32px;\n",
              "    padding: 0;\n",
              "    width: 32px;\n",
              "  }\n",
              "\n",
              "  .colab-df-quickchart:hover {\n",
              "    background-color: var(--hover-bg-color);\n",
              "    box-shadow: 0 1px 2px rgba(60, 64, 67, 0.3), 0 1px 3px 1px rgba(60, 64, 67, 0.15);\n",
              "    fill: var(--button-hover-fill-color);\n",
              "  }\n",
              "\n",
              "  .colab-df-quickchart-complete:disabled,\n",
              "  .colab-df-quickchart-complete:disabled:hover {\n",
              "    background-color: var(--disabled-bg-color);\n",
              "    fill: var(--disabled-fill-color);\n",
              "    box-shadow: none;\n",
              "  }\n",
              "\n",
              "  .colab-df-spinner {\n",
              "    border: 2px solid var(--fill-color);\n",
              "    border-color: transparent;\n",
              "    border-bottom-color: var(--fill-color);\n",
              "    animation:\n",
              "      spin 1s steps(1) infinite;\n",
              "  }\n",
              "\n",
              "  @keyframes spin {\n",
              "    0% {\n",
              "      border-color: transparent;\n",
              "      border-bottom-color: var(--fill-color);\n",
              "      border-left-color: var(--fill-color);\n",
              "    }\n",
              "    20% {\n",
              "      border-color: transparent;\n",
              "      border-left-color: var(--fill-color);\n",
              "      border-top-color: var(--fill-color);\n",
              "    }\n",
              "    30% {\n",
              "      border-color: transparent;\n",
              "      border-left-color: var(--fill-color);\n",
              "      border-top-color: var(--fill-color);\n",
              "      border-right-color: var(--fill-color);\n",
              "    }\n",
              "    40% {\n",
              "      border-color: transparent;\n",
              "      border-right-color: var(--fill-color);\n",
              "      border-top-color: var(--fill-color);\n",
              "    }\n",
              "    60% {\n",
              "      border-color: transparent;\n",
              "      border-right-color: var(--fill-color);\n",
              "    }\n",
              "    80% {\n",
              "      border-color: transparent;\n",
              "      border-right-color: var(--fill-color);\n",
              "      border-bottom-color: var(--fill-color);\n",
              "    }\n",
              "    90% {\n",
              "      border-color: transparent;\n",
              "      border-bottom-color: var(--fill-color);\n",
              "    }\n",
              "  }\n",
              "</style>\n",
              "\n",
              "  <script>\n",
              "    async function quickchart(key) {\n",
              "      const quickchartButtonEl =\n",
              "        document.querySelector('#' + key + ' button');\n",
              "      quickchartButtonEl.disabled = true;  // To prevent multiple clicks.\n",
              "      quickchartButtonEl.classList.add('colab-df-spinner');\n",
              "      try {\n",
              "        const charts = await google.colab.kernel.invokeFunction(\n",
              "            'suggestCharts', [key], {});\n",
              "      } catch (error) {\n",
              "        console.error('Error during call to suggestCharts:', error);\n",
              "      }\n",
              "      quickchartButtonEl.classList.remove('colab-df-spinner');\n",
              "      quickchartButtonEl.classList.add('colab-df-quickchart-complete');\n",
              "    }\n",
              "    (() => {\n",
              "      let quickchartButtonEl =\n",
              "        document.querySelector('#df-8870142a-eda5-4925-a918-1fe2d65f07d6 button');\n",
              "      quickchartButtonEl.style.display =\n",
              "        google.colab.kernel.accessAllowed ? 'block' : 'none';\n",
              "    })();\n",
              "  </script>\n",
              "</div>\n",
              "    </div>\n",
              "  </div>\n"
            ],
            "application/vnd.google.colaboratory.intrinsic+json": {
              "type": "dataframe",
              "variable_name": "df",
              "summary": "{\n  \"name\": \"df\",\n  \"rows\": 11000,\n  \"fields\": [\n    {\n      \"column\": \"teks\",\n      \"properties\": {\n        \"dtype\": \"string\",\n        \"num_unique_values\": 10933,\n        \"samples\": [\n          \"ikan laut di aceh masih mahal\",\n          \"pizza sama coffie nya enak , harga nya juga murah banget hehehe sewaktu ke sini dulu waktu hujan jadi bisa sambil santai lama sekali :\",\n          \"kalau mau merasakan roti zaman dahulu , ini salah satu tempat nya . buka nya hanya sampai sore , jadi kalau pulang kantor kadang tidak keburu ke sini\"\n        ],\n        \"semantic_type\": \"\",\n        \"description\": \"\"\n      }\n    },\n    {\n      \"column\": \"label\",\n      \"properties\": {\n        \"dtype\": \"category\",\n        \"num_unique_values\": 3,\n        \"samples\": [\n          \"positive\",\n          \"neutral\",\n          \"negative\"\n        ],\n        \"semantic_type\": \"\",\n        \"description\": \"\"\n      }\n    },\n    {\n      \"column\": \"teksclean\",\n      \"properties\": {\n        \"dtype\": \"string\",\n        \"num_unique_values\": 10932,\n        \"samples\": [\n          \"ikan laut di aceh masih mahal\",\n          \"pizza sama coffie nya enak   harga nya juga murah banget hehehe sewaktu ke sini dulu waktu hujan jadi bisa sambil santai lama sekali  \",\n          \"kalau mau merasakan roti zaman dahulu   ini salah satu tempat nya   buka nya hanya sampai sore   jadi kalau pulang kantor kadang tidak keburu ke sini\"\n        ],\n        \"semantic_type\": \"\",\n        \"description\": \"\"\n      }\n    }\n  ]\n}"
            }
          },
          "metadata": {},
          "execution_count": 6
        }
      ],
      "source": [
        "df['teksclean']=df.teks.apply(cleansing)\n",
        "df.head()"
      ]
    },
    {
      "cell_type": "code",
      "execution_count": null,
      "id": "f232c742",
      "metadata": {
        "id": "f232c742"
      },
      "outputs": [],
      "source": [
        "neg = df.loc[df['label'] == 'negative'].teksclean.tolist()\n",
        "neu = df.loc[df['label'] == 'neutral'].teksclean.tolist()\n",
        "pos = df.loc[df['label'] == 'positive'].teksclean.tolist()\n",
        "\n",
        "neg_label = df.loc[df['label'] == 'negative'].label.tolist()\n",
        "neu_label = df.loc[df['label'] == 'neutral'].label.tolist()\n",
        "pos_label = df.loc[df['label'] == 'positive'].label.tolist()"
      ]
    },
    {
      "cell_type": "code",
      "execution_count": null,
      "id": "9eb441e3",
      "metadata": {
        "colab": {
          "base_uri": "https://localhost:8080/"
        },
        "id": "9eb441e3",
        "outputId": "4b4423e7-92b6-4766-8961-198478583f93"
      },
      "outputs": [
        {
          "output_type": "stream",
          "name": "stdout",
          "text": [
            "Neg: 3436, Neu: 1148, Pos: 6416\n",
            "Total data: 11000\n"
          ]
        }
      ],
      "source": [
        "totaldata = neg + neu + pos\n",
        "labels = neg_label + neu_label + pos_label\n",
        "\n",
        "print(\"Neg: %s, Neu: %s, Pos: %s\" %(len(neg), len(neu), len(pos)))\n",
        "print(\"Total data: %s\" %len(totaldata))"
      ]
    },
    {
      "cell_type": "markdown",
      "id": "47af685a",
      "metadata": {
        "id": "47af685a"
      },
      "source": [
        "## FEATURE EXTRACTION"
      ]
    },
    {
      "cell_type": "code",
      "execution_count": null,
      "id": "70077cb3",
      "metadata": {
        "id": "70077cb3"
      },
      "outputs": [],
      "source": [
        "import pickle\n",
        "from tensorflow.keras.preprocessing.text import Tokenizer\n",
        "from tensorflow.keras.preprocessing.sequence import pad_sequences\n",
        "from collections import defaultdict"
      ]
    },
    {
      "cell_type": "code",
      "execution_count": null,
      "id": "b6e95f8f",
      "metadata": {
        "colab": {
          "base_uri": "https://localhost:8080/"
        },
        "id": "b6e95f8f",
        "outputId": "05dcb72c-1f4f-4417-eef4-f34e964d1e02"
      },
      "outputs": [
        {
          "output_type": "stream",
          "name": "stdout",
          "text": [
            "tokenizer1.pickle has created\n",
            "x_pad_sequences1.pickle has created\n"
          ]
        }
      ],
      "source": [
        "max_features = 10000\n",
        "tokenizer = Tokenizer(num_words=max_features, split=' ', lower=True)\n",
        "tokenizer.fit_on_texts(totaldata)\n",
        "with open ('tokenizer1.pickle','wb') as handle:\n",
        "    pickle.dump(tokenizer, handle, protocol=pickle.HIGHEST_PROTOCOL)\n",
        "    print (\"tokenizer1.pickle has created\")\n",
        "\n",
        "X = tokenizer.texts_to_sequences(totaldata)\n",
        "\n",
        "vocab_size = len(tokenizer.word_index)\n",
        "maxlen = max(len(x) for x in X)\n",
        "\n",
        "X = pad_sequences(X)\n",
        "with open ('x_pad_sequences1.pickle','wb') as handle:\n",
        "    pickle.dump(X, handle, protocol=pickle.HIGHEST_PROTOCOL)\n",
        "    print('x_pad_sequences1.pickle has created')"
      ]
    },
    {
      "cell_type": "code",
      "execution_count": null,
      "id": "a74f7832",
      "metadata": {
        "colab": {
          "base_uri": "https://localhost:8080/"
        },
        "id": "a74f7832",
        "outputId": "4c7ffb15-d4b1-4c18-f6fa-816a23e91807"
      },
      "outputs": [
        {
          "output_type": "stream",
          "name": "stdout",
          "text": [
            "y_labels1.pickle has created\n"
          ]
        }
      ],
      "source": [
        "Y = pd.get_dummies(labels)\n",
        "Y = Y.values\n",
        "\n",
        "with open ('y_labels1.pickle','wb') as handle:\n",
        "    pickle.dump(Y, handle, protocol=pickle.HIGHEST_PROTOCOL)\n",
        "    print('y_labels1.pickle has created')"
      ]
    },
    {
      "cell_type": "code",
      "execution_count": null,
      "id": "9b434b4a",
      "metadata": {
        "id": "9b434b4a",
        "scrolled": true
      },
      "outputs": [],
      "source": [
        "from sklearn.model_selection import train_test_split\n",
        "\n",
        "file = open(\"x_pad_sequences1.pickle\",'rb')\n",
        "X = pickle.load(file)\n",
        "file.close()\n",
        "\n",
        "file = open(\"y_labels1.pickle\",'rb')\n",
        "Y = pickle.load(file)\n",
        "file.close()\n",
        "\n",
        "X_train, X_test, y_train, y_test = train_test_split(X,Y, test_size=0.2, random_state=1)"
      ]
    },
    {
      "cell_type": "markdown",
      "id": "52ed1226",
      "metadata": {
        "id": "52ed1226"
      },
      "source": [
        "## LSTM"
      ]
    },
    {
      "cell_type": "code",
      "execution_count": null,
      "id": "b59156ba",
      "metadata": {
        "id": "b59156ba"
      },
      "outputs": [],
      "source": [
        "import numpy as np\n",
        "from tensorflow.keras import layers\n",
        "from tensorflow.keras.models import Sequential\n",
        "from tensorflow.keras.layers import Dense, Embedding, LSTM, SimpleRNN, Activation\n",
        "from tensorflow.keras import optimizers\n",
        "from tensorflow.keras.callbacks import EarlyStopping, TensorBoard\n",
        "from tensorflow.keras.layers import Flatten, SpatialDropout1D, GlobalAveragePooling1D\n",
        "from tensorflow.keras import backend as K\n",
        "import keras"
      ]
    },
    {
      "cell_type": "code",
      "execution_count": null,
      "id": "3dc10ba5",
      "metadata": {
        "colab": {
          "base_uri": "https://localhost:8080/"
        },
        "id": "3dc10ba5",
        "outputId": "90b611f9-8fc7-4460-886e-c7a8e8624ceb"
      },
      "outputs": [
        {
          "output_type": "stream",
          "name": "stdout",
          "text": [
            "Model: \"sequential_13\"\n",
            "_________________________________________________________________\n",
            " Layer (type)                Output Shape              Param #   \n",
            "=================================================================\n",
            " embedding_13 (Embedding)    (None, 90, 100)           1000000   \n",
            "                                                                 \n",
            " spatial_dropout1d_13 (Spat  (None, 90, 100)           0         \n",
            " ialDropout1D)                                                   \n",
            "                                                                 \n",
            " lstm_13 (LSTM)              (None, 128)               117248    \n",
            "                                                                 \n",
            " dropout_13 (Dropout)        (None, 128)               0         \n",
            "                                                                 \n",
            " dense_13 (Dense)            (None, 3)                 387       \n",
            "                                                                 \n",
            "=================================================================\n",
            "Total params: 1117635 (4.26 MB)\n",
            "Trainable params: 1117635 (4.26 MB)\n",
            "Non-trainable params: 0 (0.00 Byte)\n",
            "_________________________________________________________________\n",
            "None\n",
            "Epoch 1/15\n",
            "35/35 [==============================] - 25s 631ms/step - loss: 0.8156 - accuracy: 0.6341 - val_loss: 0.6614 - val_accuracy: 0.7114\n",
            "Epoch 2/15\n",
            "35/35 [==============================] - 24s 677ms/step - loss: 0.5074 - accuracy: 0.7824 - val_loss: 0.4674 - val_accuracy: 0.8064\n",
            "Epoch 3/15\n",
            "35/35 [==============================] - 25s 709ms/step - loss: 0.3297 - accuracy: 0.8793 - val_loss: 0.3729 - val_accuracy: 0.8650\n",
            "Epoch 4/15\n",
            "35/35 [==============================] - 25s 713ms/step - loss: 0.2147 - accuracy: 0.9300 - val_loss: 0.3519 - val_accuracy: 0.8709\n",
            "Epoch 5/15\n",
            "35/35 [==============================] - 22s 643ms/step - loss: 0.1533 - accuracy: 0.9475 - val_loss: 0.3640 - val_accuracy: 0.8705\n",
            "Epoch 6/15\n",
            "35/35 [==============================] - 25s 709ms/step - loss: 0.1233 - accuracy: 0.9564 - val_loss: 0.3713 - val_accuracy: 0.8682\n",
            "Epoch 7/15\n",
            "35/35 [==============================] - 21s 616ms/step - loss: 0.0921 - accuracy: 0.9674 - val_loss: 0.4285 - val_accuracy: 0.8655\n",
            "Epoch 8/15\n",
            "35/35 [==============================] - 24s 680ms/step - loss: 0.0674 - accuracy: 0.9768 - val_loss: 0.4844 - val_accuracy: 0.8655\n",
            "Epoch 9/15\n",
            "35/35 [==============================] - 21s 614ms/step - loss: 0.0559 - accuracy: 0.9799 - val_loss: 0.5252 - val_accuracy: 0.8636\n",
            "Epoch 10/15\n",
            "35/35 [==============================] - 24s 681ms/step - loss: 0.0467 - accuracy: 0.9824 - val_loss: 0.5902 - val_accuracy: 0.8527\n",
            "Epoch 11/15\n",
            "35/35 [==============================] - 22s 641ms/step - loss: 0.0418 - accuracy: 0.9830 - val_loss: 0.6222 - val_accuracy: 0.8541\n",
            "Epoch 12/15\n",
            "35/35 [==============================] - 24s 687ms/step - loss: 0.0390 - accuracy: 0.9837 - val_loss: 0.7883 - val_accuracy: 0.8509\n",
            "Epoch 13/15\n",
            "35/35 [==============================] - 23s 649ms/step - loss: 0.0419 - accuracy: 0.9835 - val_loss: 0.5961 - val_accuracy: 0.8473\n",
            "Epoch 14/15\n",
            "35/35 [==============================] - 24s 695ms/step - loss: 0.0343 - accuracy: 0.9862 - val_loss: 0.6370 - val_accuracy: 0.8482\n",
            "Epoch 15/15\n",
            "35/35 [==============================] - 23s 647ms/step - loss: 0.0425 - accuracy: 0.9834 - val_loss: 0.7512 - val_accuracy: 0.8455\n"
          ]
        }
      ],
      "source": [
        "embed_dim = 100\n",
        "units = 128\n",
        "\n",
        "model = Sequential()\n",
        "model.add(Embedding(max_features, embed_dim, input_shape=(X.shape[1],)))\n",
        "model.add(SpatialDropout1D(0.2))\n",
        "model.add(LSTM(units, return_sequences=False))\n",
        "model.add(layers.Dropout(0.2))\n",
        "model.add(Dense(3,activation='softmax'))\n",
        "#model.compile(loss= 'binary_crossentropy', optimizer='adam', metrics =['accuracy'])\n",
        "opt = optimizers.Adam(learning_rate = 0.001)\n",
        "model.compile(loss= 'categorical_crossentropy', optimizer=opt, metrics =['accuracy'])\n",
        "print(model.summary())\n",
        "\n",
        "#es = EarlyStopping (monitor='val_loss', mode='min', verbose=1)\n",
        "history = model.fit(X_train, y_train, epochs=15, batch_size=256, validation_data=(X_test, y_test), verbose=1)\n",
        "#callbacks=[es]"
      ]
    },
    {
      "cell_type": "code",
      "execution_count": null,
      "id": "386a7af0",
      "metadata": {
        "colab": {
          "base_uri": "https://localhost:8080/"
        },
        "id": "386a7af0",
        "outputId": "d77c1a0e-c8b1-48d9-ab8e-fec2e1167053",
        "scrolled": true
      },
      "outputs": [
        {
          "output_type": "stream",
          "name": "stdout",
          "text": [
            "69/69 [==============================] - 4s 48ms/step\n",
            "TESTING SELESAI\n",
            "              precision    recall  f1-score   support\n",
            "\n",
            "           0       0.77      0.80      0.78       704\n",
            "           1       0.86      0.71      0.78       222\n",
            "           2       0.88      0.90      0.89      1274\n",
            "\n",
            "    accuracy                           0.85      2200\n",
            "   macro avg       0.84      0.80      0.82      2200\n",
            "weighted avg       0.85      0.85      0.84      2200\n",
            "\n"
          ]
        }
      ],
      "source": [
        "from sklearn import metrics\n",
        "\n",
        "predictions = model.predict(X_test)\n",
        "y_pred = predictions\n",
        "matrix_test = metrics.classification_report(y_test.argmax(axis=1), y_pred.argmax(axis=1))\n",
        "print (\"TESTING SELESAI\")\n",
        "print(matrix_test)"
      ]
    },
    {
      "cell_type": "markdown",
      "id": "a91985a0",
      "metadata": {
        "id": "a91985a0"
      },
      "source": [
        "## CROSS VALIDATION"
      ]
    },
    {
      "cell_type": "code",
      "execution_count": null,
      "id": "a89e5e30",
      "metadata": {
        "colab": {
          "base_uri": "https://localhost:8080/"
        },
        "id": "a89e5e30",
        "outputId": "c99b9e61-aa90-491f-c0d6-b66a6cd347e0"
      },
      "outputs": [
        {
          "output_type": "stream",
          "name": "stdout",
          "text": [
            "69/69 [==============================] - 1s 14ms/step\n",
            "Training ke- 1\n",
            "              precision    recall  f1-score   support\n",
            "\n",
            "           0       0.62      0.54      0.57       704\n",
            "           1       0.44      0.14      0.21       222\n",
            "           2       0.74      0.88      0.80      1274\n",
            "\n",
            "    accuracy                           0.70      2200\n",
            "   macro avg       0.60      0.52      0.53      2200\n",
            "weighted avg       0.67      0.70      0.67      2200\n",
            "\n",
            "===================================================================\n",
            "69/69 [==============================] - 2s 15ms/step\n",
            "Training ke- 2\n",
            "              precision    recall  f1-score   support\n",
            "\n",
            "           0       0.60      0.31      0.40       704\n",
            "           1       0.56      0.02      0.04       222\n",
            "           2       0.63      0.90      0.74      1274\n",
            "\n",
            "    accuracy                           0.62      2200\n",
            "   macro avg       0.59      0.41      0.40      2200\n",
            "weighted avg       0.61      0.62      0.56      2200\n",
            "\n",
            "===================================================================\n",
            "69/69 [==============================] - 1s 13ms/step\n",
            "Training ke- 3\n",
            "              precision    recall  f1-score   support\n",
            "\n",
            "           0       0.51      0.28      0.36       704\n",
            "           1       0.67      0.05      0.10       222\n",
            "           2       0.63      0.89      0.74      1274\n",
            "\n",
            "    accuracy                           0.61      2200\n",
            "   macro avg       0.60      0.41      0.40      2200\n",
            "weighted avg       0.60      0.61      0.56      2200\n",
            "\n",
            "===================================================================\n",
            "69/69 [==============================] - 1s 13ms/step\n",
            "Training ke- 4\n",
            "              precision    recall  f1-score   support\n",
            "\n",
            "           0       0.61      0.40      0.48       704\n",
            "           1       0.00      0.00      0.00       222\n",
            "           2       0.66      0.90      0.76      1274\n",
            "\n",
            "    accuracy                           0.65      2200\n",
            "   macro avg       0.42      0.43      0.41      2200\n",
            "weighted avg       0.58      0.65      0.60      2200\n",
            "\n",
            "===================================================================\n"
          ]
        },
        {
          "output_type": "stream",
          "name": "stderr",
          "text": [
            "/usr/local/lib/python3.10/dist-packages/sklearn/metrics/_classification.py:1344: UndefinedMetricWarning: Precision and F-score are ill-defined and being set to 0.0 in labels with no predicted samples. Use `zero_division` parameter to control this behavior.\n",
            "  _warn_prf(average, modifier, msg_start, len(result))\n",
            "/usr/local/lib/python3.10/dist-packages/sklearn/metrics/_classification.py:1344: UndefinedMetricWarning: Precision and F-score are ill-defined and being set to 0.0 in labels with no predicted samples. Use `zero_division` parameter to control this behavior.\n",
            "  _warn_prf(average, modifier, msg_start, len(result))\n",
            "/usr/local/lib/python3.10/dist-packages/sklearn/metrics/_classification.py:1344: UndefinedMetricWarning: Precision and F-score are ill-defined and being set to 0.0 in labels with no predicted samples. Use `zero_division` parameter to control this behavior.\n",
            "  _warn_prf(average, modifier, msg_start, len(result))\n"
          ]
        },
        {
          "output_type": "stream",
          "name": "stdout",
          "text": [
            "69/69 [==============================] - 1s 13ms/step\n",
            "Training ke- 5\n",
            "              precision    recall  f1-score   support\n",
            "\n",
            "           0       0.60      0.35      0.44       704\n",
            "           1       0.00      0.00      0.00       222\n",
            "           2       0.66      0.92      0.77      1274\n",
            "\n",
            "    accuracy                           0.65      2200\n",
            "   macro avg       0.42      0.42      0.40      2200\n",
            "weighted avg       0.57      0.65      0.59      2200\n",
            "\n",
            "===================================================================\n",
            "\n",
            "\n",
            "\n",
            "Rata-rata Accuracy: 0.6459090909090909\n"
          ]
        },
        {
          "output_type": "stream",
          "name": "stderr",
          "text": [
            "/usr/local/lib/python3.10/dist-packages/sklearn/metrics/_classification.py:1344: UndefinedMetricWarning: Precision and F-score are ill-defined and being set to 0.0 in labels with no predicted samples. Use `zero_division` parameter to control this behavior.\n",
            "  _warn_prf(average, modifier, msg_start, len(result))\n",
            "/usr/local/lib/python3.10/dist-packages/sklearn/metrics/_classification.py:1344: UndefinedMetricWarning: Precision and F-score are ill-defined and being set to 0.0 in labels with no predicted samples. Use `zero_division` parameter to control this behavior.\n",
            "  _warn_prf(average, modifier, msg_start, len(result))\n",
            "/usr/local/lib/python3.10/dist-packages/sklearn/metrics/_classification.py:1344: UndefinedMetricWarning: Precision and F-score are ill-defined and being set to 0.0 in labels with no predicted samples. Use `zero_division` parameter to control this behavior.\n",
            "  _warn_prf(average, modifier, msg_start, len(result))\n"
          ]
        }
      ],
      "source": [
        "from sklearn.metrics import classification_report\n",
        "from sklearn.metrics import accuracy_score\n",
        "from sklearn.model_selection import KFold\n",
        "\n",
        "kf = KFold(n_splits=5, random_state=42, shuffle=True)\n",
        "\n",
        "accuracies = []\n",
        "y = Y\n",
        "\n",
        "for iteration, data in enumerate(kf.split(X), start=1):\n",
        "    data_train = X[data[0]]\n",
        "    target_train = y[data[0]]\n",
        "\n",
        "    data_test = X[data[1]]\n",
        "    target_test = y[data[1]]\n",
        "\n",
        "    model = Sequential()\n",
        "    model.add(Embedding(max_features, embed_dim, input_shape=(X.shape[1],)))\n",
        "    model.add(LSTM(units))\n",
        "    model.add(layers.Dropout(0.5))\n",
        "    model.add(Dense(3,activation='softmax'))\n",
        "    opt = optimizers.Adam(learning_rate = 0.001)\n",
        "    model.compile(loss= 'categorical_crossentropy', optimizer=opt, metrics =['accuracy'])\n",
        "\n",
        "    #es = EarlyStopping (monitor='val_loss', mode='min', verbose=0)\n",
        "    history = model.fit(X_train, y_train, epochs=10, batch_size=1024, validation_data=(X_test, y_test), verbose=0)\n",
        "    #verbose 1 menjadi 0\n",
        "\n",
        "    predictions = model.predict(X_test)\n",
        "    y_pred = predictions\n",
        "\n",
        "    accuracy = accuracy_score(y_test.argmax(axis=1), y_pred.argmax(axis=1))\n",
        "    #metrics report menjadi accuracy score\n",
        "\n",
        "    print ('Training ke-', iteration)\n",
        "    print (classification_report(y_test.argmax(axis=1), y_pred.argmax(axis=1)))\n",
        "    print ('===================================================================')\n",
        "\n",
        "    accuracies.append(accuracy)\n",
        "\n",
        "average_accuracy = np.mean(accuracies)\n",
        "\n",
        "print()\n",
        "print()\n",
        "print()\n",
        "print('Rata-rata Accuracy:', average_accuracy)\n"
      ]
    },
    {
      "cell_type": "markdown",
      "id": "b2a58191",
      "metadata": {
        "id": "b2a58191"
      },
      "source": [
        "## MODELLING"
      ]
    },
    {
      "cell_type": "code",
      "execution_count": null,
      "id": "e55c91d0",
      "metadata": {
        "colab": {
          "base_uri": "https://localhost:8080/",
          "height": 469
        },
        "id": "e55c91d0",
        "outputId": "b4a84bb2-1d4d-408d-f98e-73c3f775c640"
      },
      "outputs": [
        {
          "output_type": "display_data",
          "data": {
            "text/plain": [
              "<Figure size 1200x500 with 2 Axes>"
            ],
            "image/png": "[encoded data removed]"
          },
          "metadata": {}
        }
      ],
      "source": [
        "import matplotlib.pyplot as plt\n",
        "plt.style.use('ggplot')\n",
        "\n",
        "def plothist (history):\n",
        "    acc = history.history ['accuracy']\n",
        "    val_acc = history.history ['val_accuracy']\n",
        "    loss = history.history['loss']\n",
        "    val_loss = history.history['val_loss']\n",
        "    x = range(1, len(acc) +1)\n",
        "\n",
        "    plt.figure(figsize=(12,5))\n",
        "    plt.subplot(1,2,1)\n",
        "    plt.plot(x, acc, 'b', label='Training acc')\n",
        "    plt.plot(x, val_acc, 'r', label='Validation acc')\n",
        "    plt.title ('Training and Validation Accuracy')\n",
        "    plt.legend()\n",
        "    plt.subplot(1,2,2)\n",
        "    plt.plot(x, loss, 'b', label='Training loss')\n",
        "    plt.plot(x, val_loss, 'r', label='Validation loss')\n",
        "    plt.title ('Training and Validation Loss')\n",
        "    plt.legend()\n",
        "\n",
        "%matplotlib inline\n",
        "plothist (history)\n"
      ]
    },
    {
      "cell_type": "code",
      "execution_count": null,
      "id": "383d39aa",
      "metadata": {
        "colab": {
          "base_uri": "https://localhost:8080/"
        },
        "id": "383d39aa",
        "outputId": "90afdabe-6ed3-4be6-86d1-966fc1f476bc"
      },
      "outputs": [
        {
          "output_type": "stream",
          "name": "stderr",
          "text": [
            "/usr/local/lib/python3.10/dist-packages/keras/src/engine/training.py:3103: UserWarning: You are saving your model as an HDF5 file via `model.save()`. This file format is considered legacy. We recommend using instead the native Keras format, e.g. `model.save('my_model.keras')`.\n",
            "  saving_api.save_model(\n"
          ]
        },
        {
          "output_type": "stream",
          "name": "stdout",
          "text": [
            "Model has created\n"
          ]
        }
      ],
      "source": [
        "model.save('model-lstm.h5')\n",
        "print ('Model has created')"
      ]
    },
    {
      "cell_type": "markdown",
      "id": "73fd429a",
      "metadata": {
        "id": "73fd429a"
      },
      "source": [
        "## PREDICT"
      ]
    },
    {
      "cell_type": "code",
      "execution_count": null,
      "id": "062868cb",
      "metadata": {
        "colab": {
          "base_uri": "https://localhost:8080/"
        },
        "id": "062868cb",
        "outputId": "3285a682-dc56-4e1a-91df-d471a01fabc3"
      },
      "outputs": [
        {
          "output_type": "stream",
          "name": "stdout",
          "text": [
            "1/1 [==============================] - 1s 750ms/step\n",
            "Teks:   rasa syukur  cukup  \n",
            "Sentiment:  positive\n"
          ]
        }
      ],
      "source": [
        "from keras.models import load_model\n",
        "\n",
        "input_text = \"\"\"\n",
        "Rasa syukur, cukup.\n",
        "\"\"\"\n",
        "\n",
        "def cleansing (input):\n",
        "    string = input.lower()\n",
        "    string = re.sub(r'[^a-zA-Z0-9]',' ', string)\n",
        "    return string\n",
        "\n",
        "sentiment = ['negative','neutral','positive']\n",
        "\n",
        "teks = [cleansing(input_text)]\n",
        "predicted = tokenizer.texts_to_sequences(teks)\n",
        "guess = pad_sequences(predicted, maxlen=X.shape[1])\n",
        "\n",
        "model = load_model('model-lstm.h5')\n",
        "prediction = model.predict(guess)\n",
        "polarity = np.argmax(prediction[0])\n",
        "\n",
        "print('Teks: ', teks[0])\n",
        "print('Sentiment: ', sentiment[polarity])"
      ]
    },
    {
      "cell_type": "code",
      "execution_count": null,
      "id": "c334f112",
      "metadata": {
        "colab": {
          "base_uri": "https://localhost:8080/"
        },
        "id": "c334f112",
        "outputId": "dc535ff4-714f-4a85-b7eb-40b76f705b8b"
      },
      "outputs": [
        {
          "data": {
            "text/plain": [
              "array([[    0,     0,     0,     0,     0,     0,     0,     0,     0,\n",
              "            0,     0,     0,     0,     0,     0,     0,     0,     0,\n",
              "            0,     0,     0,     0,     0,     0,     0,     0,     0,\n",
              "            0,     0,     0,     0,     0,     0,     0,     0,     0,\n",
              "            0,     0,     0,     0,     0,     0,     0,     0,     0,\n",
              "            0,     0,     0,     0,     0,     0,     0,     0,     0,\n",
              "            0,     0,     0,     0,     0,     0,     0,     0,     0,\n",
              "            0,     0,     0,     0,     0,     0,     0,     0,     0,\n",
              "            0,     0,     0,     0,     0,     0,     0,     0,     0,\n",
              "            0,     0,     0,     0,     0,     0,     0,     0,     0,\n",
              "            0,     0,     0,    34, 11021,    25]], dtype=int32)"
            ]
          },
          "execution_count": 79,
          "metadata": {},
          "output_type": "execute_result"
        }
      ],
      "source": []
    },
    {
      "cell_type": "code",
      "execution_count": null,
      "id": "9e53caf6",
      "metadata": {
        "colab": {
          "base_uri": "https://localhost:8080/"
        },
        "id": "9e53caf6",
        "outputId": "a9a4461c-e37b-4567-a478-0d0811811afb"
      },
      "outputs": [
        {
          "data": {
            "text/plain": [
              "0"
            ]
          },
          "execution_count": 75,
          "metadata": {},
          "output_type": "execute_result"
        }
      ],
      "source": [
        "polarity"
      ]
    },
    {
      "cell_type": "code",
      "execution_count": null,
      "id": "dfb256ae",
      "metadata": {
        "id": "dfb256ae"
      },
      "outputs": [],
      "source": []
    }
  ],
  "metadata": {
    "colab": {
      "provenance": [],
      "include_colab_link": true
    },
    "kernelspec": {
      "display_name": "Python 3 (ipykernel)",
      "language": "python",
      "name": "python3"
    },
    "language_info": {
      "codemirror_mode": {
        "name": "ipython",
        "version": 3
      },
      "file_extension": ".py",
      "mimetype": "text/x-python",
      "name": "python",
      "nbconvert_exporter": "python",
      "pygments_lexer": "ipython3",
      "version": "3.10.5"
    }
  },
  "nbformat": 4,
  "nbformat_minor": 5
}